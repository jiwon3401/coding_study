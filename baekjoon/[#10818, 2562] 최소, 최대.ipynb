{
 "cells": [
  {
   "cell_type": "markdown",
   "id": "f7590526",
   "metadata": {},
   "source": [
    "10818번 최소, 최대"
   ]
  },
  {
   "cell_type": "code",
   "execution_count": 4,
   "id": "1249e246",
   "metadata": {},
   "outputs": [
    {
     "name": "stdout",
     "output_type": "stream",
     "text": [
      "5\n",
      "20 10 35 30 7\n",
      "7 35\n"
     ]
    }
   ],
   "source": [
    "N = int(input())\n",
    "num = list(map(int, input().split()))\n",
    "print(min(num), max(num))"
   ]
  },
  {
   "cell_type": "code",
   "execution_count": null,
   "id": "676c58c2",
   "metadata": {
    "scrolled": true
   },
   "outputs": [],
   "source": [
    "#pop, append 연산에 list보다 deque 가 더 빠름.\n",
    "from collections import deque\n",
    "N = int(input())\n",
    "deq = deque(maxlen=N)\n",
    "for i in range(N):\n",
    "    deq.append(i)\n",
    "deq"
   ]
  },
  {
   "cell_type": "markdown",
   "id": "97206566",
   "metadata": {},
   "source": [
    "----\n",
    "2562번 최댓값"
   ]
  },
  {
   "cell_type": "code",
   "execution_count": 2,
   "id": "175ddc1a",
   "metadata": {},
   "outputs": [
    {
     "name": "stdout",
     "output_type": "stream",
     "text": [
      "3, 29, 38, 12, 57, 74, 40, 85, 61\n",
      "85\n",
      "7\n"
     ]
    }
   ],
   "source": [
    "input_num = list(map(int, input().split(\", \")))\n",
    "print(max(input_num))\n",
    "print(input_num.index(max(input_num)))"
   ]
  },
  {
   "cell_type": "markdown",
   "id": "c3e85c3b",
   "metadata": {},
   "source": [
    "??  \n",
    "아,,문제 input 예시를 보면 안되고 예제 입력 예시를 보고 입력해야되는구나 ㅎ."
   ]
  },
  {
   "cell_type": "code",
   "execution_count": 3,
   "id": "2f11704c",
   "metadata": {},
   "outputs": [
    {
     "name": "stdout",
     "output_type": "stream",
     "text": [
      "3\n",
      "29\n",
      "38\n",
      "12\n",
      "57\n",
      "74\n",
      "40\n",
      "85\n",
      "61\n",
      "85\n",
      "8\n"
     ]
    }
   ],
   "source": [
    "input_num = []\n",
    "for i in range(1,10):\n",
    "    nums = int(input())\n",
    "    input_num.append(nums)\n",
    "\n",
    "print(max(input_num))\n",
    "print(input_num.index(max(input_num))+1)"
   ]
  }
 ],
 "metadata": {
  "kernelspec": {
   "display_name": "jiwon",
   "language": "python",
   "name": "jiwon"
  },
  "language_info": {
   "codemirror_mode": {
    "name": "ipython",
    "version": 3
   },
   "file_extension": ".py",
   "mimetype": "text/x-python",
   "name": "python",
   "nbconvert_exporter": "python",
   "pygments_lexer": "ipython3",
   "version": "3.8.13"
  }
 },
 "nbformat": 4,
 "nbformat_minor": 5
}
