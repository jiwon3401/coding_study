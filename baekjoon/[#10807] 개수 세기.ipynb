{
 "cells": [
  {
   "cell_type": "markdown",
   "id": "699d133e",
   "metadata": {},
   "source": [
    "배열을 입력받고 v를 찾는 문제 - 총 N개의 정수가 주어졌을 때, 정수 v가 몇 개인지 구하는 프로그램을 작성하시오."
   ]
  },
  {
   "cell_type": "code",
   "execution_count": 3,
   "id": "63ea038a",
   "metadata": {},
   "outputs": [
    {
     "name": "stdout",
     "output_type": "stream",
     "text": [
      "11\n",
      "1 4 1 2 4 2 4 2 3 4 4\n",
      "2\n",
      "3\n"
     ]
    }
   ],
   "source": [
    "count = int(input()) #N개의 입력을 받음\n",
    "N = list(map(int, input().split())) #둘째 줄에는 정수가 공백으로 구분되어져있다.\n",
    "v = int(input()) #셋째 줄에는 찾으려고 하는 정수 v가 주어진다.\n",
    "\n",
    "print(N.count(v)) #첫째 줄에 입력으로 주어진 N개의 정수 중에 v가 몇 개인지 출력한다."
   ]
  }
 ],
 "metadata": {
  "kernelspec": {
   "display_name": "jiwon",
   "language": "python",
   "name": "jiwon"
  },
  "language_info": {
   "codemirror_mode": {
    "name": "ipython",
    "version": 3
   },
   "file_extension": ".py",
   "mimetype": "text/x-python",
   "name": "python",
   "nbconvert_exporter": "python",
   "pygments_lexer": "ipython3",
   "version": "3.8.13"
  }
 },
 "nbformat": 4,
 "nbformat_minor": 5
}
