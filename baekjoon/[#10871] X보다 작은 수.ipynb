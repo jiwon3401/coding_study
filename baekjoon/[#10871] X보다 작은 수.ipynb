{
 "cells": [
  {
   "cell_type": "markdown",
   "id": "1492365d",
   "metadata": {},
   "source": [
    "정수 N개로 이루어진 수열 A와 정수 X가 주어진다. 이때, A에서 X보다 작은 수를 모두 출력하는 프로그램을 작성하시오.   \n",
    "\n",
    "X보다 작은 수를 입력받은 순서대로 공백으로 구분해 출력한다. X보다 작은 수는 적어도 하나 존재한다."
   ]
  },
  {
   "cell_type": "code",
   "execution_count": 1,
   "id": "afcd0811",
   "metadata": {},
   "outputs": [
    {
     "name": "stdout",
     "output_type": "stream",
     "text": [
      "10 5\n",
      "1 10 4 9 2 3 8 5 7 6\n",
      "1 4 2 3 "
     ]
    }
   ],
   "source": [
    "N, X = map(int,input().split())\n",
    "A = list(map(int, input().split()))\n",
    "for i in range(N):\n",
    "    if A[i] < X:\n",
    "        print(A[i], end=\" \")"
   ]
  }
 ],
 "metadata": {
  "kernelspec": {
   "display_name": "jiwon",
   "language": "python",
   "name": "jiwon"
  },
  "language_info": {
   "codemirror_mode": {
    "name": "ipython",
    "version": 3
   },
   "file_extension": ".py",
   "mimetype": "text/x-python",
   "name": "python",
   "nbconvert_exporter": "python",
   "pygments_lexer": "ipython3",
   "version": "3.8.13"
  }
 },
 "nbformat": 4,
 "nbformat_minor": 5
}
